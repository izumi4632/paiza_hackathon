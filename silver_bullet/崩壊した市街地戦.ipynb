{
 "cells": [
  {
   "cell_type": "code",
   "execution_count": null,
   "metadata": {},
   "outputs": [],
   "source": [
    "def get_all_patterns(s):\n",
    "\tpatterns = []\n",
    "\tpatterns.append(str(int(s[:1])+int(s[1:])))\n",
    "\tpatterns.append(str(int(s[:2])+int(s[2:])))\n",
    "\tpatterns.append(str(int(s[0])+int(s[1])+int(s[2])))\n",
    "\treturn patterns\n",
    "\n",
    "def check():\n",
    "\ta, b = [i for i in input().split()]\n",
    "\tif b in get_all_patterns(a):\n",
    "\t\treturn \"Yes\"\n",
    "\telse:\n",
    "\t\treturn \"No\"\n",
    "\n",
    "for i in range(int(input())):\n",
    "\tprint(check())"
   ]
  }
 ],
 "metadata": {
  "language_info": {
   "name": "python"
  },
  "orig_nbformat": 4
 },
 "nbformat": 4,
 "nbformat_minor": 2
}
