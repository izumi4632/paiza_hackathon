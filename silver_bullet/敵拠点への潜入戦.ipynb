{
 "cells": [
  {
   "cell_type": "code",
   "execution_count": null,
   "metadata": {},
   "outputs": [],
   "source": [
    "def reverse(s):\n",
    "    return \"1\" if s==\"0\" else \"0\"\n",
    "def change(s, l, r):\n",
    "    return s[:l] + \"\".join(map(reverse,list(s[l:r]))) + s[r:]\n",
    "\n",
    "s=input()\n",
    "n=int(input())\n",
    "for i in range(n):\n",
    "    l,r=map(int,input().split())\n",
    "    s=change(s,l-1,r)\n",
    "print(s)"
   ]
  }
 ],
 "metadata": {
  "language_info": {
   "name": "python"
  },
  "orig_nbformat": 4
 },
 "nbformat": 4,
 "nbformat_minor": 2
}
