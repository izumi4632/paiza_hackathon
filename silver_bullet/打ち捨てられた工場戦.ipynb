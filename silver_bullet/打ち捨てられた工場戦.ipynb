{
 "cells": [
  {
   "cell_type": "code",
   "execution_count": null,
   "metadata": {},
   "outputs": [],
   "source": [
    "hazardous_material = input()\n",
    "chemical           = input()\n",
    "def check(hazardous_material, chemical):\n",
    "    if hazardous_material in chemical:\n",
    "        return \"DANGER\"\n",
    "    else:\n",
    "        return \"OK\"\n",
    "print(check(hazardous_material, chemical))"
   ]
  }
 ],
 "metadata": {
  "language_info": {
   "name": "python"
  },
  "orig_nbformat": 4
 },
 "nbformat": 4,
 "nbformat_minor": 2
}
